{
 "cells": [
  {
   "cell_type": "markdown",
   "id": "bf1f6ead",
   "metadata": {},
   "source": [
    "### 🧩 Problem Statement\n",
    "\n",
    "In today’s globalized economy, countries vary significantly in terms of economic performance and policy direction. However, these differences are often complex and not easily grouped by geography or development status alone. This project aims to uncover hidden economic patterns across countries by applying unsupervised machine learning, specifically clustering algorithms, to a set of key economic indicators.\n",
    "\n",
    "By analyzing metrics such as GDP growth, unemployment, inflation, interest rates, and stock index values, we seek to group countries with similar economic characteristics. These clusters will provide insight into how countries align economically, potentially identifying groups that face similar economic challenges or follow similar development paths.\n",
    "\n",
    "This analysis will support:\n",
    "\n",
    "    * Geopolitical and economic understanding of global trends,\n",
    "\n",
    "    * Data-driven policy comparison between similar economies,\n",
    "\n",
    "    * And a basis for further economic forecasting or strategy design."
   ]
  },
  {
   "cell_type": "code",
   "execution_count": 1,
   "id": "9be3b6a8",
   "metadata": {},
   "outputs": [
    {
     "data": {
      "text/html": [
       "<div>\n",
       "<style scoped>\n",
       "    .dataframe tbody tr th:only-of-type {\n",
       "        vertical-align: middle;\n",
       "    }\n",
       "\n",
       "    .dataframe tbody tr th {\n",
       "        vertical-align: top;\n",
       "    }\n",
       "\n",
       "    .dataframe thead th {\n",
       "        text-align: right;\n",
       "    }\n",
       "</style>\n",
       "<table border=\"1\" class=\"dataframe\">\n",
       "  <thead>\n",
       "    <tr style=\"text-align: right;\">\n",
       "      <th></th>\n",
       "      <th>Date</th>\n",
       "      <th>Country</th>\n",
       "      <th>Inflation Rate (%)</th>\n",
       "      <th>GDP Growth Rate (%)</th>\n",
       "      <th>Unemployment Rate (%)</th>\n",
       "      <th>Interest Rate (%)</th>\n",
       "      <th>Stock Index Value</th>\n",
       "    </tr>\n",
       "  </thead>\n",
       "  <tbody>\n",
       "    <tr>\n",
       "      <th>0</th>\n",
       "      <td>2010-01-31</td>\n",
       "      <td>Brazil</td>\n",
       "      <td>1.23</td>\n",
       "      <td>0.69</td>\n",
       "      <td>10.48</td>\n",
       "      <td>7.71</td>\n",
       "      <td>21748.85</td>\n",
       "    </tr>\n",
       "    <tr>\n",
       "      <th>1</th>\n",
       "      <td>2010-01-31</td>\n",
       "      <td>France</td>\n",
       "      <td>6.76</td>\n",
       "      <td>2.59</td>\n",
       "      <td>4.27</td>\n",
       "      <td>7.39</td>\n",
       "      <td>10039.56</td>\n",
       "    </tr>\n",
       "    <tr>\n",
       "      <th>2</th>\n",
       "      <td>2010-01-31</td>\n",
       "      <td>USA</td>\n",
       "      <td>7.46</td>\n",
       "      <td>4.84</td>\n",
       "      <td>2.64</td>\n",
       "      <td>6.39</td>\n",
       "      <td>13129.10</td>\n",
       "    </tr>\n",
       "    <tr>\n",
       "      <th>3</th>\n",
       "      <td>2010-02-28</td>\n",
       "      <td>Brazil</td>\n",
       "      <td>5.43</td>\n",
       "      <td>0.31</td>\n",
       "      <td>8.26</td>\n",
       "      <td>6.09</td>\n",
       "      <td>23304.58</td>\n",
       "    </tr>\n",
       "    <tr>\n",
       "      <th>4</th>\n",
       "      <td>2010-02-28</td>\n",
       "      <td>Canada</td>\n",
       "      <td>0.69</td>\n",
       "      <td>-0.52</td>\n",
       "      <td>11.92</td>\n",
       "      <td>-0.51</td>\n",
       "      <td>16413.03</td>\n",
       "    </tr>\n",
       "  </tbody>\n",
       "</table>\n",
       "</div>"
      ],
      "text/plain": [
       "         Date Country  Inflation Rate (%)  GDP Growth Rate (%)  \\\n",
       "0  2010-01-31  Brazil                1.23                 0.69   \n",
       "1  2010-01-31  France                6.76                 2.59   \n",
       "2  2010-01-31     USA                7.46                 4.84   \n",
       "3  2010-02-28  Brazil                5.43                 0.31   \n",
       "4  2010-02-28  Canada                0.69                -0.52   \n",
       "\n",
       "   Unemployment Rate (%)  Interest Rate (%)  Stock Index Value  \n",
       "0                  10.48               7.71           21748.85  \n",
       "1                   4.27               7.39           10039.56  \n",
       "2                   2.64               6.39           13129.10  \n",
       "3                   8.26               6.09           23304.58  \n",
       "4                  11.92              -0.51           16413.03  "
      ]
     },
     "execution_count": 1,
     "metadata": {},
     "output_type": "execute_result"
    }
   ],
   "source": [
    "import pandas as pd \n",
    "import numpy as np\n",
    "\n",
    "df = pd.read_csv('../Clustering Countries Based on Economic Indicators Project/Data.csv')\n",
    "df.head()"
   ]
  },
  {
   "cell_type": "code",
   "execution_count": 2,
   "id": "d562404a",
   "metadata": {},
   "outputs": [
    {
     "data": {
      "text/plain": [
       "Date                     0\n",
       "Country                  0\n",
       "Inflation Rate (%)       0\n",
       "GDP Growth Rate (%)      0\n",
       "Unemployment Rate (%)    0\n",
       "Interest Rate (%)        0\n",
       "Stock Index Value        0\n",
       "dtype: int64"
      ]
     },
     "execution_count": 2,
     "metadata": {},
     "output_type": "execute_result"
    }
   ],
   "source": [
    "df.isnull().sum()"
   ]
  }
 ],
 "metadata": {
  "kernelspec": {
   "display_name": "Python 3",
   "language": "python",
   "name": "python3"
  },
  "language_info": {
   "codemirror_mode": {
    "name": "ipython",
    "version": 3
   },
   "file_extension": ".py",
   "mimetype": "text/x-python",
   "name": "python",
   "nbconvert_exporter": "python",
   "pygments_lexer": "ipython3",
   "version": "3.11.1"
  }
 },
 "nbformat": 4,
 "nbformat_minor": 5
}
